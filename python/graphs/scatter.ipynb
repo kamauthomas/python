{
 "cells": [
  {
   "cell_type": "code",
   "execution_count": null,
   "metadata": {},
   "outputs": [],
   "source": [
    "# X Values: Generate 50 random values between 0 and 10.\n",
    "# Y Values: Generate 50 random values between 0 and 10.\n",
    "# Steps:\n",
    "# Use numpy.random.rand() to create random x and y values.\n",
    "# Create a scatter plot using Matplotlib.\n",
    "# Add the following:\n",
    "# Title: “Scatter Plot of Random Points”\n",
    "# X and Y axis labels.\n",
    "# A grid for better readability."
   ]
  },
  {
   "cell_type": "code",
   "execution_count": null,
   "metadata": {},
   "outputs": [],
   "source": [
    "import numpy as np\n",
    "import matplotlib.pyplot as plt\n",
    "\n",
    "x = np.random.rand(50)*10\n",
    "y= np.random.rand(50)*10\n",
    "\n",
    "plt.scatter(x,y, color='red', label=\"random points\")\n",
    "plt.legend()\n",
    "plt.gcf().set_facecolor('yellow')\n",
    "\n",
    "plt.title(\"Scatter Plot of Random Points\")\n",
    "plt.xlabel(\"X\")\n",
    "plt.ylabel(\"Y\")\n",
    "\n",
    "plt.grid(True)\n",
    "plt.show()"
   ]
  }
 ],
 "metadata": {
  "kernelspec": {
   "display_name": "Python 3",
   "language": "python",
   "name": "python3"
  },
  "language_info": {
   "codemirror_mode": {
    "name": "ipython",
    "version": 3
   },
   "file_extension": ".py",
   "mimetype": "text/x-python",
   "name": "python",
   "nbconvert_exporter": "python",
   "pygments_lexer": "ipython3",
   "version": "3.12.6"
  }
 },
 "nbformat": 4,
 "nbformat_minor": 2
}
