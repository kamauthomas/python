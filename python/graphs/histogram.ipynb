{
 "cells": [
  {
   "cell_type": "code",
   "execution_count": null,
   "metadata": {},
   "outputs": [],
   "source": [
    "# Generate:\n",
    "# Dataset 1: 100 random values from a normal distribution with mean 5 and standard deviation 1.\n",
    "# Dataset 2: 100 random values from a normal distribution with mean 7 and standard deviation 1.5.\n",
    "# Steps:\n",
    "# Use numpy.random.normal() to generate both datasets.\n",
    "# Create overlapping histograms for both datasets using Matplotlib’s plt.hist().\n",
    "# Add the following:\n",
    "# Title: “Comparison of Two Normal Distributions”\n",
    "# X-axis label: “Value”\n",
    "# Y-axis label: “Frequency”\n",
    "# A legend to identify each dataset."
   ]
  },
  {
   "cell_type": "code",
   "execution_count": 13,
   "metadata": {},
   "outputs": [],
   "source": [
    "import numpy as np\n",
    "import matplotlib.pyplot as plt"
   ]
  },
  {
   "cell_type": "code",
   "execution_count": 17,
   "metadata": {},
   "outputs": [],
   "source": [
    "# datasets variables\n",
    "d1 = np.random.normal(loc = 5, scale = 1, size = 100)\n",
    "d2 = np.random.normal(loc = 7, scale = 1.5, size = 100)"
   ]
  },
  {
   "cell_type": "code",
   "execution_count": null,
   "metadata": {},
   "outputs": [],
   "source": [
    "# plotting\n",
    "plt.hist(d1, alpha = 0.5, label = 'd1', color = 'red')\n",
    "plt.hist(d2, alpha = 0.5, label = 'd2', color = 'green')\n",
    "plt.legend()\n",
    "plt.title('Comparison of Two Normal Distributions')\n",
    "plt.xlabel('Value')\n",
    "plt.ylabel('Frequency')\n",
    "plt.grid(True)\n",
    "plt.show()"
   ]
  }
 ],
 "metadata": {
  "kernelspec": {
   "display_name": "Python 3",
   "language": "python",
   "name": "python3"
  },
  "language_info": {
   "codemirror_mode": {
    "name": "ipython",
    "version": 3
   },
   "file_extension": ".py",
   "mimetype": "text/x-python",
   "name": "python",
   "nbconvert_exporter": "python",
   "pygments_lexer": "ipython3",
   "version": "3.12.6"
  }
 },
 "nbformat": 4,
 "nbformat_minor": 2
}
