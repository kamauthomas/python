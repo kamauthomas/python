{
 "cells": [
  {
   "cell_type": "code",
   "execution_count": null,
   "metadata": {},
   "outputs": [],
   "source": [
    "# Categories: Create three categories (e.g., \"A\", \"B\", \"C\").\n",
    "# Values: Generate random values for each category across three different groups:\n",
    "# Group 1: Random values between 1 and 10.\n",
    "# Group 2: Random values between 1 and 10.\n",
    "# Group 3: Random values between 1 and 10.\n",
    "# Steps:\n",
    "# Use numpy.random.randint() to generate random values for each group and category.\n",
    "# Create a stacked bar chart using plt.bar() for each group.\n",
    "# Add the following:\n",
    "# Title: “Stacked Bar Chart of Categories”\n",
    "# X-axis label: “Groups”\n",
    "# Y-axis label: “Values”\n",
    "# A legend to identify each category."
   ]
  },
  {
   "cell_type": "code",
   "execution_count": 1,
   "metadata": {},
   "outputs": [],
   "source": [
    "import matplotlib.pyplot as plt\n",
    "import numpy as np\n",
    "\n",
    "# variables and arrays\n",
    "categories = [\"rich\", \"poor\", \"middleclass\"]\n",
    "\n",
    "group1 =  np.random.randint(1, 11, size = 3)\n",
    "group2 =  np.random.randint(1, 11, size = 3)\n",
    "group3 =  np.random.randint(1, 11, size = 3)\n",
    "\n",
    "# plotting\n",
    "plt.bar(categories, group1, label = \"group1\")\n",
    "plt.bar(categories, group2, bottom = group1, label = \"group2\")\n",
    "plt.bar(categories, group3, bottom = group1+group2, label = \"group3\")\n",
    "plt.legend()\n",
    "plt.title(\"Stacked Bar Chart of Categories\")\n",
    "plt.xlabel(\"Groups\")\n",
    "plt.ylabel(\"Values\")\n",
    "plt.show()"
   ]
  }
 ],
 "metadata": {
  "kernelspec": {
   "display_name": "Python 3",
   "language": "python",
   "name": "python3"
  },
  "language_info": {
   "codemirror_mode": {
    "name": "ipython",
    "version": 3
   },
   "file_extension": ".py",
   "mimetype": "text/x-python",
   "name": "python",
   "nbconvert_exporter": "python",
   "pygments_lexer": "ipython3",
   "version": "3.12.6"
  }
 },
 "nbformat": 4,
 "nbformat_minor": 2
}
